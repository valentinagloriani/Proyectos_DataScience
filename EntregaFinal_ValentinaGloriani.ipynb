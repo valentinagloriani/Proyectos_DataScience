{
  "cells": [
    {
      "cell_type": "markdown",
      "metadata": {
        "id": "view-in-github",
        "colab_type": "text"
      },
      "source": [
        "<a href=\"https://colab.research.google.com/github/valentinagloriani/Proyectos_DataScience/blob/main/EntregaFinal_ValentinaGloriani.ipynb\" target=\"_parent\"><img src=\"https://colab.research.google.com/assets/colab-badge.svg\" alt=\"Open In Colab\"/></a>"
      ]
    },
    {
      "cell_type": "markdown",
      "metadata": {
        "id": "jsMYra-A0FfD"
      },
      "source": [
        "# **Información**\n",
        "\n",
        "Alumna: Valentina Gloriani\n",
        "\n",
        "https://www.linkedin.com/in/valentinagloriani/\n",
        "\n",
        "Curso: Data Science\n",
        "\n",
        "Comisión: 46275\n",
        "\n",
        "Profesores: Francisco Azzollini / Daniel Galeano\n",
        "\n",
        "Tutor: Luciano Lisachi\n",
        "\n",
        "Fecha: Marzo 2024\n",
        "\n",
        "\n",
        "---\n",
        "\n",
        "\n",
        "\n"
      ]
    },
    {
      "cell_type": "markdown",
      "metadata": {
        "id": "Ao7uILmo8Upk"
      },
      "source": [
        "# **Proyecto final: \"Análisis de fumadores y bebedores\"**\n",
        "\n",
        "\n",
        "---\n",
        "\n",
        "\n"
      ]
    },
    {
      "cell_type": "markdown",
      "metadata": {
        "id": "cb1dpjvY-zAQ"
      },
      "source": [
        "\n",
        "# Tabla de contenido\n",
        "\n",
        "1.   Resumen ejecutivo\n",
        "2.   Introducción\n",
        "  1.   Objetivo del proyecto\n",
        "  1.   Stakeholders\n",
        "  1.   Alcance del proyecto\n",
        "  1.   Suposiciones y limitaciones\n",
        "  1.   Análisis a realizar\n",
        "  1.   Solución\n",
        "2.   Contexto análitico\n",
        "  1.   Requisitos\n",
        "  1.   El Data set\n",
        "  1.   Estructura del data set\n",
        "  1.   El ADR\n",
        "  1.   Dimensiones de los datos\n",
        "  1.   Librerías utilizadas\n",
        "  1.   Configuración\n",
        "  1.   Funciones propias\n",
        "1.   Obtención de los datos (data acquisition)\n",
        "  1.   Github\n",
        "  1.   Datos externos (API)\n",
        "  1.   Backup\n",
        "2.   Depuración de datos (Data wrangling)\n",
        "  1.   Data set principal (reservas)\n",
        "  1.   Variable objetivo\n",
        "  1.   Reducción de características\n",
        "  1.   Valores duplicados\n",
        "  1.   Valores NaN\n",
        "  1.   Valores erroneos\n",
        "  1.   Transformación de los tipos de datos\n",
        "  1.   Etiquetado de variables categóricas\n",
        "  2.   Ingeniería de atributos\n",
        "  1.   Data set secundario (países)\n",
        "1.   Análisis exploratorio de datos (EDA)\n",
        "  1. Reservas confirmadas\n",
        "  2. Reservas canceladas\n",
        "  1. Tiempo de demora\n",
        "  1. Distribución de adultos-mes de reserva\n",
        "  1. Relación ADR-Mes/Año de arribo\n",
        "  1. Noches de estadía y servicio de comida\n",
        "2.   Selección de características\n",
        "  1.   Matriz de correlación (Pearson)\n",
        "  2.   Matriz de correlación (Spearman)\n",
        "  1.   Matriz de correlación (Kendall)\n",
        "  1.   Forward selection\n",
        "  2.   Linear regression\n",
        "  1.   Backward selection\n",
        "  2.   Stepwise\n",
        "2.   Entrenamiento de modelos\n",
        "1.   Resultados finales del proyecto\n",
        "2.   Conclusiones y recomendaciones finales\n",
        "1.   Referencias\n",
        "1.   Change log\n",
        "\n",
        "\n",
        "\n",
        "\n",
        "\n",
        "\n",
        "\n",
        "\n",
        "\n",
        "\n"
      ]
    },
    {
      "cell_type": "markdown",
      "metadata": {
        "id": "eH4Q0kuoWqjG"
      },
      "source": [
        "# Resumen ejecutivo\n",
        "---\n",
        "\n",
        "Este proyecto se centra en el análisis exploratorio de un dataset que contiene información detallada sobre la salud y los hábitos de vida de una muestra individuos. Incluye variables como género, edad, altura, peso, medidas de cintura, audición, niveles de colesterol, triglicéridos, hemoglobina y hábitos de tabaquismo y consumo de alcohol.\n",
        "\n",
        "\n",
        "\n",
        "El análisis se ha dividido en visualizaciones univariadas, bivariadas y multivariadas, complementadas con resúmenes numéricos relevantes para cada variable. Estas visualizaciones y análisis estadísticos proporcionarán insights que ayudarán a comprender mejor la relación entre los hábitos de vida y la salud de la población estudiada en este subconjunto de datos.\n",
        "\n",
        "El proyecto incluye gráficos que muestran distribuciones de datos, relaciones entre variables y análisis de desviación estándar para resaltar la variabilidad en los datos. Estos análisis contribuirán a la comprensión de los factores que influyen en la salud y el bienestar de la población estudiada.\n"
      ]
    },
    {
      "cell_type": "markdown",
      "metadata": {
        "id": "Tr44SMtf6gCv"
      },
      "source": [
        "# Introducción\n",
        "\n",
        "---\n",
        "\n",
        "\n",
        "* **Contexto comercial**: El análisis de datos de salud y hábitos de vida es fundamental en el contexto actual, donde la salud y el bienestar son preocupaciones importantes a nivel global. Comprender los factores que influyen en la salud de la población puede ayudar a desarrollar políticas de salud más efectivas, programas de prevención y estrategias de intervención para mejorar la calidad de vida.\n",
        "\n",
        "* **Problema comercial**: El principal problema comercial radica en la necesidad de comprender las relaciones y patrones existentes entre los hábitos de vida y la salud de la población estudiada. Identificar estas relaciones puede ayudar a los responsables de la toma de decisiones en salud a diseñar intervenciones más precisas y efectivas para abordar los problemas de salud específicos y promover estilos de vida más saludables.\n",
        "\n",
        "* **Contexto analítico**: El análisis exploratorio de datos es una herramienta fundamental en la ciencia de datos para descubrir patrones, tendencias y relaciones ocultas en los datos. En este proyecto, se utilizarán técnicas estadísticas y visualizaciones de datos para explorar la relación entre diversas variables relacionadas con la salud y los hábitos de vida. El objetivo es obtener insights significativos que ayuden a comprender mejor los factores que influyen en la salud de la población estudiada y a identificar áreas de enfoque para intervenciones futuras.\n",
        "\n",
        "\n",
        "\n",
        "\n"
      ]
    },
    {
      "cell_type": "markdown",
      "metadata": {
        "id": "Vuon_ppR1EiS"
      },
      "source": [
        "## Objetivo\n",
        "\n",
        "El objetivo principal de este estudio es encontrar y analizar las relaciones y patrones existentes entre las diversas variables presentes en el conjunto de datos. Formulando preguntas de interés y suposiciones, como la relación entre la edad y el peso de los individuos, la variación del nivel de colesterol total en función del género, la correlación entre los niveles de triglicéridos y las medidas de cintura, y el impacto de los hábitos de tabaquismo y consumo de alcohol en los niveles de hemoglobina.\n",
        "\n",
        "La motiviación de este proyecto proviene de no solo ser una representación de una exploración de datos, sino un esfuerzo decidido para arrojar luz sobre los matices que influyen en la salud, llevándonos más cerca de una comprensión de los factores que impactan la calidad de vida de la población en estudio."
      ]
    },
    {
      "cell_type": "markdown",
      "metadata": {
        "id": "bywZL5J8pySF"
      },
      "source": [
        "## Stakeholders\n",
        "\n",
        "\n",
        "Los stakeholders en este proyecto de análisis de datos sobre salud y hábitos de vida incluyen profesionales de la salud, entidades gubernamentales, empresas del sector salud, academia e investigadores."
      ]
    },
    {
      "cell_type": "markdown",
      "metadata": {
        "id": "b7cBVF3YwOBj"
      },
      "source": [
        "## Alcance del proyecto\n",
        "\n",
        "\n",
        "A partir de este análisis, se pretende identificar patrones, relaciones significativas y tendencias emergentes entre las variables estudiadas. Además, se busca generar insights relevantes que ayuden a comprender mejor la influencia de los hábitos de vida en la salud de la población analizada. El objetivo final es proporcionar recomendaciones basadas en evidencia para mejorar la calidad de vida y promover hábitos saludables dentro de esta población. El alcance también abarca la posibilidad de desarrollar modelos predictivos y proponer áreas de investigación adicional para profundizar en ciertos aspectos identificados durante el análisis exploratorio."
      ]
    },
    {
      "cell_type": "markdown",
      "metadata": {
        "id": "m_Nzms-m0z9W"
      },
      "source": [
        "## Suposiciones y limitaciones\n",
        "\n",
        "* La muestra pertenece a una sola ciudad, lo cual puede derivar en sesgos."
      ]
    },
    {
      "cell_type": "markdown",
      "metadata": {
        "id": "TN_TPkDBBLXr"
      },
      "source": [
        "## Análisis a realizar (insights)\n",
        "\n",
        "Como parte de este proyecto de Data Science centrado en los hábitos de fumadores y bebedores, se realizarán una serie de análisis con el objetivo de obtener insights relevantes sobre este grupo demográfico. A continuación se detallan los puntos de interés que se abordarán en el análisis del conjunto de datos proporcionado:\n",
        "\n",
        "\n",
        "1.   Distribución de fumadores y bebedores: Identificar la proporción de fumadores y bebedores en la muestra de individuos.\n",
        "\n",
        "2.   Relación entre el hábito de fumar y el consumo de alcohol: Investigar si existe alguna correlación entre el hábito de fumar y el consumo de alcohol en la población estudiada.\n",
        "\n",
        "3.   Análisis de edad y hábitos de fumar y beber: Explorar cómo varían los hábitos de fumar y beber en función de la edad de los individuos.\n",
        "\n",
        "4.   Impacto del género en los hábitos de fumar y beber: Analizar si hay diferencias significativas en los hábitos de fumar y beber entre hombres y mujeres.\n",
        "\n",
        "5.   Correlación entre hábitos de fumar y beber y medidas de salud: Investigar si existen correlaciones entre los hábitos de fumar y beber y variables de salud como el peso, el colesterol, los triglicéridos y la hemoglobina.\n",
        "\n",
        "6.  Influencia del hábito de fumar y beber en la calidad de vida: Explorar cómo los hábitos de fumar y beber pueden influir en la calidad de vida de los individuos, utilizando medidas como la audición y la altura.\n",
        "\n",
        "7.  Comparación de hábitos de fumar y beber en diferentes grupos demográficos: Analizar si hay diferencias significativas en los hábitos de fumar y beber entre diferentes grupos demográficos, como personas con diferentes niveles de educación o ingresos."
      ]
    },
    {
      "cell_type": "markdown",
      "metadata": {
        "id": "K5fs7-Hj4Rsk"
      },
      "source": [
        "## Solución\n",
        "\n",
        "En este proyecto, se plantea utilizar la tecnología de machine learning para abordar la pregunta inicial sobre los hábitos de fumar y beber en la población estudiada.\n",
        "\n",
        "La variable objetivo en este caso es booleana, lo que indica que se trata de un problema de clasificación binaria. Dada esta naturaleza, se explorarán varios algoritmos de machine learning adecuados para este tipo de problema:\n",
        "\n",
        "\n",
        "Estos son algunos de los modelos que se implementarán con el data set propuesto:\n",
        "\n",
        "\n",
        "1.  **Regresión Logística**: Dado que tienes una variable objetivo booleana (fumador/bebedor o no), la regresión logística es una opción adecuada. Puede estimar la probabilidad de que un individuo sea fumador o bebedor dadas sus características, lo que te permitirá realizar predicciones sobre los hábitos de fumar y beber en función de las variables disponibles en tu conjunto de datos.\n",
        "\n",
        "2.  **Support Vector Machines (SVM)**: Las SVM también son viables para este problema, ya que pueden encontrar un hiperplano óptimo que separe las clases de fumadores y no fumadores, o bebedores y no bebedores. Sin embargo, el rendimiento de las SVM puede verse afectado por la dimensionalidad de tus datos y el tamaño de tu conjunto de datos, por lo que puede ser necesario realizar ajustes y optimizaciones adicionales.\n",
        "\n",
        "3.  **Árboles de Decisión**: Los árboles de decisión son modelos versátiles que pueden adaptarse bien a problemas de clasificación binaria. Pueden segmentar tu población estudiada en función de sus hábitos de fumar y beber utilizando reglas simples basadas en las características disponibles en tus datos.\n",
        "\n",
        "4.  **Random Forests**: Dado que Random Forests es un método de ensemble que combina múltiples árboles de decisión, también es una opción prometedora para tu problema. Puede manejar conjuntos de datos complejos y capturar relaciones no lineales entre las variables de entrada y la variable objetivo.\n",
        "\n",
        "5.  **Gradient Boosting Machines (GBM)**: GBM es otro método de ensemble que puede ser efectivo para capturar relaciones no lineales entre las variables de entrada y la variable objetivo. Puede mejorar gradualmente el rendimiento del modelo combinando varios modelos débiles, lo que lo hace adecuado para problemas de clasificación binaria como el tuyo.\n",
        "\n",
        "6.  **Redes Neuronales Artificiales (ANN)**: Las redes neuronales son modelos poderosos que pueden capturar patrones complejos en los datos. Dado el tamaño y la complejidad de tu conjunto de datos, así como la naturaleza no lineal de algunos problemas de clasificación binaria, las redes neuronales podrían ser una opción interesante para explorar."
      ]
    },
    {
      "cell_type": "markdown",
      "metadata": {
        "id": "tewzghB6zkCo"
      },
      "source": [
        "# **Contexto analítico**\n",
        "\n",
        "\n",
        "---\n",
        "\n"
      ]
    },
    {
      "cell_type": "markdown",
      "metadata": {
        "id": "l1nqX3k4yZnt"
      },
      "source": [
        "### Requisitos\n",
        "Proyecto desarrollado con Python. El mismo se ejecuta en Google Colab (es la implementación de Jupyter Notebook de Google) con el backend de Google Compute Engine en Python 3.\n"
      ]
    },
    {
      "cell_type": "markdown",
      "source": [
        "### Data Acquisition\n",
        "\n",
        "El DataSet utilizado no es de mi autoría, es Second Party Data obtenida de Kaggle: https://www.kaggle.com/datasets/sooyoungher/smoking-drinking-dataset. Son datos de tipo estructurados.\n",
        "\n",
        "\n",
        "\n",
        "\n",
        "\n"
      ],
      "metadata": {
        "id": "ePqdF5Z03hy4"
      }
    },
    {
      "cell_type": "markdown",
      "metadata": {
        "id": "YRvxa5kH7gsh"
      },
      "source": [
        "### Estructura y dimensiones\n",
        "\n",
        "Descripción de las variables:\n",
        "\n",
        "* Sexo: masculino, femenino\n",
        "* Edad: redondeada a múltiplos de 5 años\n",
        "* Altura: redondeada a múltiplos de 5 cm [cm]\n",
        "* Peso: [kg]\n",
        "* Vista Izquierda: agudeza visual (izquierda)\n",
        "* Vista Derecha: agudeza visual (derecha)\n",
        "* Oído Izquierdo: audición izquierda, 1(normal), 2(anormal)\n",
        "* Oído Derecho: audición derecha, 1(normal), 2(anormal)\n",
        "* Presión Arterial Sistólica (SBP): presión arterial sistólica [mmHg]\n",
        "* Presión Arterial Diastólica (DBP): presión arterial diastólica [mmHg]\n",
        "* BLDS: BLDS o FSG (glucosa en sangre en ayunas) [mg/dL]\n",
        "* Colesterol Total (tot_chole): colesterol total [mg/dL]\n",
        "* Colesterol HDL (HDL_chole): colesterol HDL [mg/dL]\n",
        "* Colesterol LDL (LDL_chole): colesterol LDL [mg/dL]\n",
        "* Triglicéridos (triglyceride): triglicéridos [mg/dL]\n",
        "* Hemoglobina: hemoglobina [g/dL]\n",
        "* Proteína en Orina (urine_protein): proteína en la orina, 1(-), 2(+/-), 3(+1), 4(+2), 5(+3), 6(+4)\n",
        "* Creatinina en Suero (serum_creatinine): creatinina en suero (sangre) [mg/dL]\n",
        "* SGOT (Aspartato Transaminasa) (SGOT_AST): SGOT (transaminasa glutámico-oxaloacética) AST (transaminasa aspartato) [IU/L]\n",
        "* SGOT (Alanina Transaminasa) (SGOT_ALT): ALT (transaminasa alanina) [IU/L]\n",
        "* Gamma-GTP (gamma_GTP): y-glutamil transpeptidasa [IU/L]\n",
        "* Estado de Fumador (SMK_stat_type_cd): estado de fumador, 1(nunca), 2(solía fumar pero dejó), 3(aún fuma)\n",
        "* ¿Bebedor o no? (DRK_YN)"
      ]
    },
    {
      "cell_type": "markdown",
      "metadata": {
        "id": "PEzvAdHvsNCy"
      },
      "source": [
        "### Librerías\n",
        "\n"
      ]
    },
    {
      "cell_type": "markdown",
      "metadata": {
        "id": "1z7drirq_tDs"
      },
      "source": [
        "Instalación de librerías requeridas para ejecutar el notebook."
      ]
    },
    {
      "cell_type": "code",
      "execution_count": null,
      "metadata": {
        "id": "X-hTmu0_aVMU"
      },
      "outputs": [],
      "source": [
        "import pandas as pd  # Manipulación de datos tabulares.\n",
        "import numpy as np   # Cálculos numéricos eficientes.\n",
        "import sklearn as sk  # Herramientas de machine learning.\n",
        "import matplotlib.pyplot as plt  # Visualización de datos.\n",
        "import seaborn as sns  # Visualización estadística avanzada."
      ]
    },
    {
      "cell_type": "code",
      "source": [
        "df = pd.read_csv(\"/kaggle/input/smoking-drinking-dataset/smoking_driking_dataset_Ver01.csv\")"
      ],
      "metadata": {
        "colab": {
          "base_uri": "https://localhost:8080/",
          "height": 321
        },
        "id": "4RZ9rfs0YyzY",
        "outputId": "06728a0c-c50b-4950-fbb7-8d6481f64ba3"
      },
      "execution_count": null,
      "outputs": [
        {
          "output_type": "error",
          "ename": "FileNotFoundError",
          "evalue": "[Errno 2] No such file or directory: '/kaggle/input/smoking-drinking-dataset/smoking_driking_dataset_Ver01.csv'",
          "traceback": [
            "\u001b[0;31m---------------------------------------------------------------------------\u001b[0m",
            "\u001b[0;31mFileNotFoundError\u001b[0m                         Traceback (most recent call last)",
            "\u001b[0;32m<ipython-input-7-29354e89e43f>\u001b[0m in \u001b[0;36m<cell line: 1>\u001b[0;34m()\u001b[0m\n\u001b[0;32m----> 1\u001b[0;31m \u001b[0mdf\u001b[0m \u001b[0;34m=\u001b[0m \u001b[0mpd\u001b[0m\u001b[0;34m.\u001b[0m\u001b[0mread_csv\u001b[0m\u001b[0;34m(\u001b[0m\u001b[0;34m\"/kaggle/input/smoking-drinking-dataset/smoking_driking_dataset_Ver01.csv\"\u001b[0m\u001b[0;34m)\u001b[0m\u001b[0;34m\u001b[0m\u001b[0;34m\u001b[0m\u001b[0m\n\u001b[0m",
            "\u001b[0;32m/usr/local/lib/python3.10/dist-packages/pandas/util/_decorators.py\u001b[0m in \u001b[0;36mwrapper\u001b[0;34m(*args, **kwargs)\u001b[0m\n\u001b[1;32m    209\u001b[0m                 \u001b[0;32melse\u001b[0m\u001b[0;34m:\u001b[0m\u001b[0;34m\u001b[0m\u001b[0;34m\u001b[0m\u001b[0m\n\u001b[1;32m    210\u001b[0m                     \u001b[0mkwargs\u001b[0m\u001b[0;34m[\u001b[0m\u001b[0mnew_arg_name\u001b[0m\u001b[0;34m]\u001b[0m \u001b[0;34m=\u001b[0m \u001b[0mnew_arg_value\u001b[0m\u001b[0;34m\u001b[0m\u001b[0;34m\u001b[0m\u001b[0m\n\u001b[0;32m--> 211\u001b[0;31m             \u001b[0;32mreturn\u001b[0m \u001b[0mfunc\u001b[0m\u001b[0;34m(\u001b[0m\u001b[0;34m*\u001b[0m\u001b[0margs\u001b[0m\u001b[0;34m,\u001b[0m \u001b[0;34m**\u001b[0m\u001b[0mkwargs\u001b[0m\u001b[0;34m)\u001b[0m\u001b[0;34m\u001b[0m\u001b[0;34m\u001b[0m\u001b[0m\n\u001b[0m\u001b[1;32m    212\u001b[0m \u001b[0;34m\u001b[0m\u001b[0m\n\u001b[1;32m    213\u001b[0m         \u001b[0;32mreturn\u001b[0m \u001b[0mcast\u001b[0m\u001b[0;34m(\u001b[0m\u001b[0mF\u001b[0m\u001b[0;34m,\u001b[0m \u001b[0mwrapper\u001b[0m\u001b[0;34m)\u001b[0m\u001b[0;34m\u001b[0m\u001b[0;34m\u001b[0m\u001b[0m\n",
            "\u001b[0;32m/usr/local/lib/python3.10/dist-packages/pandas/util/_decorators.py\u001b[0m in \u001b[0;36mwrapper\u001b[0;34m(*args, **kwargs)\u001b[0m\n\u001b[1;32m    329\u001b[0m                     \u001b[0mstacklevel\u001b[0m\u001b[0;34m=\u001b[0m\u001b[0mfind_stack_level\u001b[0m\u001b[0;34m(\u001b[0m\u001b[0;34m)\u001b[0m\u001b[0;34m,\u001b[0m\u001b[0;34m\u001b[0m\u001b[0;34m\u001b[0m\u001b[0m\n\u001b[1;32m    330\u001b[0m                 )\n\u001b[0;32m--> 331\u001b[0;31m             \u001b[0;32mreturn\u001b[0m \u001b[0mfunc\u001b[0m\u001b[0;34m(\u001b[0m\u001b[0;34m*\u001b[0m\u001b[0margs\u001b[0m\u001b[0;34m,\u001b[0m \u001b[0;34m**\u001b[0m\u001b[0mkwargs\u001b[0m\u001b[0;34m)\u001b[0m\u001b[0;34m\u001b[0m\u001b[0;34m\u001b[0m\u001b[0m\n\u001b[0m\u001b[1;32m    332\u001b[0m \u001b[0;34m\u001b[0m\u001b[0m\n\u001b[1;32m    333\u001b[0m         \u001b[0;31m# error: \"Callable[[VarArg(Any), KwArg(Any)], Any]\" has no\u001b[0m\u001b[0;34m\u001b[0m\u001b[0;34m\u001b[0m\u001b[0m\n",
            "\u001b[0;32m/usr/local/lib/python3.10/dist-packages/pandas/io/parsers/readers.py\u001b[0m in \u001b[0;36mread_csv\u001b[0;34m(filepath_or_buffer, sep, delimiter, header, names, index_col, usecols, squeeze, prefix, mangle_dupe_cols, dtype, engine, converters, true_values, false_values, skipinitialspace, skiprows, skipfooter, nrows, na_values, keep_default_na, na_filter, verbose, skip_blank_lines, parse_dates, infer_datetime_format, keep_date_col, date_parser, dayfirst, cache_dates, iterator, chunksize, compression, thousands, decimal, lineterminator, quotechar, quoting, doublequote, escapechar, comment, encoding, encoding_errors, dialect, error_bad_lines, warn_bad_lines, on_bad_lines, delim_whitespace, low_memory, memory_map, float_precision, storage_options)\u001b[0m\n\u001b[1;32m    948\u001b[0m     \u001b[0mkwds\u001b[0m\u001b[0;34m.\u001b[0m\u001b[0mupdate\u001b[0m\u001b[0;34m(\u001b[0m\u001b[0mkwds_defaults\u001b[0m\u001b[0;34m)\u001b[0m\u001b[0;34m\u001b[0m\u001b[0;34m\u001b[0m\u001b[0m\n\u001b[1;32m    949\u001b[0m \u001b[0;34m\u001b[0m\u001b[0m\n\u001b[0;32m--> 950\u001b[0;31m     \u001b[0;32mreturn\u001b[0m \u001b[0m_read\u001b[0m\u001b[0;34m(\u001b[0m\u001b[0mfilepath_or_buffer\u001b[0m\u001b[0;34m,\u001b[0m \u001b[0mkwds\u001b[0m\u001b[0;34m)\u001b[0m\u001b[0;34m\u001b[0m\u001b[0;34m\u001b[0m\u001b[0m\n\u001b[0m\u001b[1;32m    951\u001b[0m \u001b[0;34m\u001b[0m\u001b[0m\n\u001b[1;32m    952\u001b[0m \u001b[0;34m\u001b[0m\u001b[0m\n",
            "\u001b[0;32m/usr/local/lib/python3.10/dist-packages/pandas/io/parsers/readers.py\u001b[0m in \u001b[0;36m_read\u001b[0;34m(filepath_or_buffer, kwds)\u001b[0m\n\u001b[1;32m    603\u001b[0m \u001b[0;34m\u001b[0m\u001b[0m\n\u001b[1;32m    604\u001b[0m     \u001b[0;31m# Create the parser.\u001b[0m\u001b[0;34m\u001b[0m\u001b[0;34m\u001b[0m\u001b[0m\n\u001b[0;32m--> 605\u001b[0;31m     \u001b[0mparser\u001b[0m \u001b[0;34m=\u001b[0m \u001b[0mTextFileReader\u001b[0m\u001b[0;34m(\u001b[0m\u001b[0mfilepath_or_buffer\u001b[0m\u001b[0;34m,\u001b[0m \u001b[0;34m**\u001b[0m\u001b[0mkwds\u001b[0m\u001b[0;34m)\u001b[0m\u001b[0;34m\u001b[0m\u001b[0;34m\u001b[0m\u001b[0m\n\u001b[0m\u001b[1;32m    606\u001b[0m \u001b[0;34m\u001b[0m\u001b[0m\n\u001b[1;32m    607\u001b[0m     \u001b[0;32mif\u001b[0m \u001b[0mchunksize\u001b[0m \u001b[0;32mor\u001b[0m \u001b[0miterator\u001b[0m\u001b[0;34m:\u001b[0m\u001b[0;34m\u001b[0m\u001b[0;34m\u001b[0m\u001b[0m\n",
            "\u001b[0;32m/usr/local/lib/python3.10/dist-packages/pandas/io/parsers/readers.py\u001b[0m in \u001b[0;36m__init__\u001b[0;34m(self, f, engine, **kwds)\u001b[0m\n\u001b[1;32m   1440\u001b[0m \u001b[0;34m\u001b[0m\u001b[0m\n\u001b[1;32m   1441\u001b[0m         \u001b[0mself\u001b[0m\u001b[0;34m.\u001b[0m\u001b[0mhandles\u001b[0m\u001b[0;34m:\u001b[0m \u001b[0mIOHandles\u001b[0m \u001b[0;34m|\u001b[0m \u001b[0;32mNone\u001b[0m \u001b[0;34m=\u001b[0m \u001b[0;32mNone\u001b[0m\u001b[0;34m\u001b[0m\u001b[0;34m\u001b[0m\u001b[0m\n\u001b[0;32m-> 1442\u001b[0;31m         \u001b[0mself\u001b[0m\u001b[0;34m.\u001b[0m\u001b[0m_engine\u001b[0m \u001b[0;34m=\u001b[0m \u001b[0mself\u001b[0m\u001b[0;34m.\u001b[0m\u001b[0m_make_engine\u001b[0m\u001b[0;34m(\u001b[0m\u001b[0mf\u001b[0m\u001b[0;34m,\u001b[0m \u001b[0mself\u001b[0m\u001b[0;34m.\u001b[0m\u001b[0mengine\u001b[0m\u001b[0;34m)\u001b[0m\u001b[0;34m\u001b[0m\u001b[0;34m\u001b[0m\u001b[0m\n\u001b[0m\u001b[1;32m   1443\u001b[0m \u001b[0;34m\u001b[0m\u001b[0m\n\u001b[1;32m   1444\u001b[0m     \u001b[0;32mdef\u001b[0m \u001b[0mclose\u001b[0m\u001b[0;34m(\u001b[0m\u001b[0mself\u001b[0m\u001b[0;34m)\u001b[0m \u001b[0;34m->\u001b[0m \u001b[0;32mNone\u001b[0m\u001b[0;34m:\u001b[0m\u001b[0;34m\u001b[0m\u001b[0;34m\u001b[0m\u001b[0m\n",
            "\u001b[0;32m/usr/local/lib/python3.10/dist-packages/pandas/io/parsers/readers.py\u001b[0m in \u001b[0;36m_make_engine\u001b[0;34m(self, f, engine)\u001b[0m\n\u001b[1;32m   1733\u001b[0m                 \u001b[0;32mif\u001b[0m \u001b[0;34m\"b\"\u001b[0m \u001b[0;32mnot\u001b[0m \u001b[0;32min\u001b[0m \u001b[0mmode\u001b[0m\u001b[0;34m:\u001b[0m\u001b[0;34m\u001b[0m\u001b[0;34m\u001b[0m\u001b[0m\n\u001b[1;32m   1734\u001b[0m                     \u001b[0mmode\u001b[0m \u001b[0;34m+=\u001b[0m \u001b[0;34m\"b\"\u001b[0m\u001b[0;34m\u001b[0m\u001b[0;34m\u001b[0m\u001b[0m\n\u001b[0;32m-> 1735\u001b[0;31m             self.handles = get_handle(\n\u001b[0m\u001b[1;32m   1736\u001b[0m                 \u001b[0mf\u001b[0m\u001b[0;34m,\u001b[0m\u001b[0;34m\u001b[0m\u001b[0;34m\u001b[0m\u001b[0m\n\u001b[1;32m   1737\u001b[0m                 \u001b[0mmode\u001b[0m\u001b[0;34m,\u001b[0m\u001b[0;34m\u001b[0m\u001b[0;34m\u001b[0m\u001b[0m\n",
            "\u001b[0;32m/usr/local/lib/python3.10/dist-packages/pandas/io/common.py\u001b[0m in \u001b[0;36mget_handle\u001b[0;34m(path_or_buf, mode, encoding, compression, memory_map, is_text, errors, storage_options)\u001b[0m\n\u001b[1;32m    854\u001b[0m         \u001b[0;32mif\u001b[0m \u001b[0mioargs\u001b[0m\u001b[0;34m.\u001b[0m\u001b[0mencoding\u001b[0m \u001b[0;32mand\u001b[0m \u001b[0;34m\"b\"\u001b[0m \u001b[0;32mnot\u001b[0m \u001b[0;32min\u001b[0m \u001b[0mioargs\u001b[0m\u001b[0;34m.\u001b[0m\u001b[0mmode\u001b[0m\u001b[0;34m:\u001b[0m\u001b[0;34m\u001b[0m\u001b[0;34m\u001b[0m\u001b[0m\n\u001b[1;32m    855\u001b[0m             \u001b[0;31m# Encoding\u001b[0m\u001b[0;34m\u001b[0m\u001b[0;34m\u001b[0m\u001b[0m\n\u001b[0;32m--> 856\u001b[0;31m             handle = open(\n\u001b[0m\u001b[1;32m    857\u001b[0m                 \u001b[0mhandle\u001b[0m\u001b[0;34m,\u001b[0m\u001b[0;34m\u001b[0m\u001b[0;34m\u001b[0m\u001b[0m\n\u001b[1;32m    858\u001b[0m                 \u001b[0mioargs\u001b[0m\u001b[0;34m.\u001b[0m\u001b[0mmode\u001b[0m\u001b[0;34m,\u001b[0m\u001b[0;34m\u001b[0m\u001b[0;34m\u001b[0m\u001b[0m\n",
            "\u001b[0;31mFileNotFoundError\u001b[0m: [Errno 2] No such file or directory: '/kaggle/input/smoking-drinking-dataset/smoking_driking_dataset_Ver01.csv'"
          ]
        }
      ]
    },
    {
      "cell_type": "markdown",
      "metadata": {
        "id": "-fq8R2XQsia0"
      },
      "source": [
        "#### Montamos el drive"
      ]
    },
    {
      "cell_type": "code",
      "execution_count": null,
      "metadata": {
        "id": "DmSiSw76sH_o",
        "colab": {
          "base_uri": "https://localhost:8080/"
        },
        "outputId": "1dc3225f-1882-44a3-e2d8-9e6609ddd6ed"
      },
      "outputs": [
        {
          "output_type": "stream",
          "name": "stdout",
          "text": [
            "Mounted at /content/drive\n"
          ]
        }
      ],
      "source": [
        "# Primero montamos Google Drive para poder usar los archivos\n",
        "from google.colab import drive\n",
        "\n",
        "drive.mount('/content/drive')"
      ]
    },
    {
      "cell_type": "markdown",
      "metadata": {
        "id": "z6us6QNU99O2"
      },
      "source": [
        "## Exploratory Data Analysis (EDA)\n",
        "\n",
        "\n",
        "\n",
        "\n"
      ]
    },
    {
      "cell_type": "markdown",
      "source": [
        " El **Análisis Exploratorio de Datos** implica examinar y comprender la estructura, patrones y características de un conjunto de datos previo a su análisis estadístico. Sirve para revelar insights, identificar patrones, detectar anomalías o sesgos y comprender la distribución y relaciones entre variables. Se puede realizar, inclusive, mediante exámenes gráficos."
      ],
      "metadata": {
        "id": "h8774R99_EKM"
      }
    },
    {
      "cell_type": "markdown",
      "source": [
        "### Preparación de Datos"
      ],
      "metadata": {
        "id": "LQ-06LymNtPl"
      }
    },
    {
      "cell_type": "markdown",
      "metadata": {
        "id": "C3iZr8ELQOp7"
      },
      "source": [
        "#### Lectura del Dataset con pandas\n",
        "\n"
      ]
    },
    {
      "cell_type": "code",
      "execution_count": null,
      "metadata": {
        "id": "9SknNtslsKVc",
        "colab": {
          "base_uri": "https://localhost:8080/",
          "height": 159
        },
        "outputId": "175ab839-fb83-4633-8725-e2deac192c94"
      },
      "outputs": [
        {
          "output_type": "error",
          "ename": "NameError",
          "evalue": "name 'pd' is not defined",
          "traceback": [
            "\u001b[0;31m---------------------------------------------------------------------------\u001b[0m",
            "\u001b[0;31mNameError\u001b[0m                                 Traceback (most recent call last)",
            "\u001b[0;32m<ipython-input-2-67ef7ee8932c>\u001b[0m in \u001b[0;36m<cell line: 2>\u001b[0;34m()\u001b[0m\n\u001b[1;32m      1\u001b[0m \u001b[0;31m# El dataframe pasará a llamarse \"data\"\u001b[0m\u001b[0;34m\u001b[0m\u001b[0;34m\u001b[0m\u001b[0m\n\u001b[0;32m----> 2\u001b[0;31m \u001b[0mdata\u001b[0m \u001b[0;34m=\u001b[0m  \u001b[0mpd\u001b[0m\u001b[0;34m.\u001b[0m\u001b[0mread_csv\u001b[0m\u001b[0;34m(\u001b[0m\u001b[0;34m'/content/drive/MyDrive/entrega_15/smoking_driking_dataset_Ver01.csv'\u001b[0m\u001b[0;34m)\u001b[0m\u001b[0;34m\u001b[0m\u001b[0;34m\u001b[0m\u001b[0m\n\u001b[0m",
            "\u001b[0;31mNameError\u001b[0m: name 'pd' is not defined"
          ]
        }
      ],
      "source": [
        "# El dataframe pasará a llamarse \"data\"\n",
        "data =  pd.read_csv('/content/drive/MyDrive/entrega_15/smoking_driking_dataset_Ver01.csv')"
      ]
    },
    {
      "cell_type": "code",
      "execution_count": null,
      "metadata": {
        "id": "HY-Qa5RwuRiu",
        "colab": {
          "base_uri": "https://localhost:8080/"
        },
        "outputId": "2983d865-f86a-4d51-ff0e-5afa03e5e6ba"
      },
      "outputs": [
        {
          "output_type": "stream",
          "name": "stdout",
          "text": [
            "<class 'pandas.core.frame.DataFrame'>\n",
            "RangeIndex: 991346 entries, 0 to 991345\n",
            "Data columns (total 24 columns):\n",
            " #   Column            Non-Null Count   Dtype  \n",
            "---  ------            --------------   -----  \n",
            " 0   sex               991346 non-null  object \n",
            " 1   age               991346 non-null  int64  \n",
            " 2   height            991346 non-null  int64  \n",
            " 3   weight            991346 non-null  int64  \n",
            " 4   waistline         991346 non-null  float64\n",
            " 5   sight_left        991346 non-null  float64\n",
            " 6   sight_right       991346 non-null  float64\n",
            " 7   hear_left         991346 non-null  float64\n",
            " 8   hear_right        991346 non-null  float64\n",
            " 9   SBP               991346 non-null  float64\n",
            " 10  DBP               991346 non-null  float64\n",
            " 11  BLDS              991346 non-null  float64\n",
            " 12  tot_chole         991346 non-null  float64\n",
            " 13  HDL_chole         991346 non-null  float64\n",
            " 14  LDL_chole         991346 non-null  float64\n",
            " 15  triglyceride      991346 non-null  float64\n",
            " 16  hemoglobin        991346 non-null  float64\n",
            " 17  urine_protein     991346 non-null  float64\n",
            " 18  serum_creatinine  991346 non-null  float64\n",
            " 19  SGOT_AST          991346 non-null  float64\n",
            " 20  SGOT_ALT          991346 non-null  float64\n",
            " 21  gamma_GTP         991346 non-null  float64\n",
            " 22  SMK_stat_type_cd  991346 non-null  float64\n",
            " 23  DRK_YN            991346 non-null  object \n",
            "dtypes: float64(19), int64(3), object(2)\n",
            "memory usage: 181.5+ MB\n"
          ]
        }
      ],
      "source": [
        "data.info()  # Información sobre la estructura y la composición del dataframe"
      ]
    },
    {
      "cell_type": "code",
      "source": [
        "data = data.drop(['SGOT_AST', 'SGOT_ALT','gamma_GTP','serum_creatinine','urine_protein','SBP','DBP','waistline'], axis=1)\n",
        "data.info()"
      ],
      "metadata": {
        "id": "fX4IZ8TwXx9C"
      },
      "execution_count": null,
      "outputs": []
    },
    {
      "cell_type": "code",
      "execution_count": null,
      "metadata": {
        "id": "pvkelnd006fe",
        "colab": {
          "base_uri": "https://localhost:8080/",
          "height": 141
        },
        "outputId": "3909d57a-e2b2-49cb-9b44-ffa6efd82f7c"
      },
      "outputs": [
        {
          "output_type": "error",
          "ename": "NameError",
          "evalue": "name 'data' is not defined",
          "traceback": [
            "\u001b[0;31m---------------------------------------------------------------------------\u001b[0m",
            "\u001b[0;31mNameError\u001b[0m                                 Traceback (most recent call last)",
            "\u001b[0;32m<ipython-input-1-2c2bc7d23226>\u001b[0m in \u001b[0;36m<cell line: 1>\u001b[0;34m()\u001b[0m\n\u001b[0;32m----> 1\u001b[0;31m \u001b[0mdata\u001b[0m\u001b[0;34m.\u001b[0m\u001b[0mhead\u001b[0m\u001b[0;34m(\u001b[0m\u001b[0;34m)\u001b[0m  \u001b[0;31m# Veamos las primeras filas del DataFrame\u001b[0m\u001b[0;34m\u001b[0m\u001b[0;34m\u001b[0m\u001b[0m\n\u001b[0m",
            "\u001b[0;31mNameError\u001b[0m: name 'data' is not defined"
          ]
        }
      ],
      "source": [
        "data.head()  # Veamos las primeras filas del DataFrame"
      ]
    },
    {
      "cell_type": "markdown",
      "metadata": {
        "id": "Jv9orxGRksDe"
      },
      "source": [
        "Notamos rápidamente la presencia de datos tanto categóricos como numéricos.\n",
        "\n"
      ]
    },
    {
      "cell_type": "code",
      "execution_count": null,
      "metadata": {
        "id": "hilUSxSr16bg"
      },
      "outputs": [],
      "source": [
        "data.shape  # Para saber las dimensiones (filas, columnas) del DataFrame"
      ]
    },
    {
      "cell_type": "code",
      "execution_count": null,
      "metadata": {
        "id": "4lkuNN-lfnxS"
      },
      "outputs": [],
      "source": [
        "data.groupby('sex').size()  # Agrupo los datos por la columna 'sexo' y muestra el tamaño de cada uno"
      ]
    },
    {
      "cell_type": "code",
      "execution_count": null,
      "metadata": {
        "id": "nABuBwiTTWLW"
      },
      "outputs": [],
      "source": [
        "# Nos dará la media, el desvío estándar y los valores mínimo y máximo de cada característica\n",
        "data.describe()"
      ]
    },
    {
      "cell_type": "markdown",
      "source": [
        "* Una desviación estándar baja: igual o inferior al 10% de la media.\n",
        "* Moderada: está en el rango de aproximadamente el 10% al 50%.\n",
        "* Alta: si la desviación estándar es más del 50% de la media o incluso más alta."
      ],
      "metadata": {
        "id": "EM_r51D2A0xa"
      }
    },
    {
      "cell_type": "markdown",
      "metadata": {
        "id": "5vAlKnIR5GA-"
      },
      "source": [
        "####Análisis de nulos"
      ]
    },
    {
      "cell_type": "code",
      "execution_count": null,
      "metadata": {
        "id": "AZ-saL1u5N-5"
      },
      "outputs": [],
      "source": [
        "pd.set_option(\n",
        "    \"display.max_rows\", None\n",
        ")  # Establece el límite de visualización de filas en 'None' (sin límite) para mostrar todas las filas del DataFrame\n",
        "serie = (\n",
        "    data.isnull().sum() / data.shape[0]\n",
        ") * 100  # Calcula el porcentaje de valores nulos para cada columna\n",
        "serie = serie.sort_values(\n",
        "    ascending=False\n",
        ")  # Ordena los porcentajes de valores nulos en orden descendente (de mayor a menor)\n",
        "serie = serie[\n",
        "    serie > 0\n",
        "]  # Filtramos solo las columnas que tienen un porcentaje de valores nulos mayor que 0\n",
        "print(serie)"
      ]
    },
    {
      "cell_type": "markdown",
      "metadata": {
        "id": "Dewxv7ny3s1Z"
      },
      "source": [
        "####Borrando duplicados"
      ]
    },
    {
      "cell_type": "code",
      "execution_count": null,
      "metadata": {
        "id": "vhJ-VbJv3sKL"
      },
      "outputs": [],
      "source": [
        "train = (\n",
        "    data.drop_duplicates()\n",
        ")  # Nuevo DF eliminando las filas duplicadas del DF original\n",
        "print(data.shape)\n",
        "print(train.shape)  # Comparamos formas\n"
      ]
    },
    {
      "cell_type": "markdown",
      "metadata": {
        "id": "7KBmXpw0RsR0"
      },
      "source": [
        "### Gráficos\n",
        "\n",
        "\n"
      ]
    },
    {
      "cell_type": "markdown",
      "metadata": {
        "id": "4AQqBcPA49ct"
      },
      "source": [
        "####**Histograma Matplotlib:**\n"
      ]
    },
    {
      "cell_type": "code",
      "execution_count": null,
      "metadata": {
        "id": "l3PrVipeBN9T"
      },
      "outputs": [],
      "source": [
        "fumadores = data[data[\"SMK_stat_type_cd\"] == 3]  # Filtro las filas del df donde la columna 'fumador' es igual a 'si' y creo un nuevo df llamado 'fumadores'\n",
        "plt.figure(figsize=(8, 5))\n",
        "\n",
        "# Creo un histograma de la columna 'edad' del df 'fumadores'\n",
        "plt.hist(\n",
        "    fumadores[\"age\"],\n",
        "    bins=range(data[\"age\"].min(), data[\"age\"].max() + 10, 10),\n",
        "    color=\"blue\",\n",
        "    alpha=0.7,\n",
        "    edgecolor=\"black\",\n",
        ")\n",
        "\n",
        "plt.xlabel(\"Edad\")  # Etiqueta eje \"x\"\n",
        "plt.ylabel(\"Cantidad de personas\")  # Etiqueta eje \"y\"\n",
        "plt.title(\"Edad de los Fumadores\")  # Etiqueta para el título\n",
        "media = fumadores[\"age\"].mean()  # Calculo la media y la almaceno como variable\n",
        "mediana = fumadores[\"age\"].median()  # Calculo la mediana la almaceno como variable\n",
        "\n",
        "# Agrego una línea vertical en el gráfico en la posición de la media y de la mediana\n",
        "plt.axvline(x=media, color=\"red\", linestyle=\"--\", label=f\"Media ({media:.2f})\")\n",
        "plt.axvline(x=mediana, color=\"green\", linestyle=\"--\", label=f\"Mediana ({mediana})\")\n",
        "\n",
        "plt.legend()\n",
        "plt.show()"
      ]
    },
    {
      "cell_type": "markdown",
      "metadata": {
        "id": "2SJk7cbE6Meb"
      },
      "source": [
        "####**Grafico de barras Matplotlib:**\n"
      ]
    },
    {
      "cell_type": "markdown",
      "source": [
        "Evaluando la muestra del dataset para ver cuántos son fumadores ¿Cuál es la proporción de fumadores en comparación con los no fumadores? ¿Hay diferencias significativas en la cantidad de personas en cada grupo?\n",
        "\n",
        "**Respuesta**: La muestra no parece ser muy representativa para las personas fumadoras, lo cual nos puede indicar la posible presencia de sesgos en los resultados o hipótesis"
      ],
      "metadata": {
        "id": "0pciKy_AMSDf"
      }
    },
    {
      "cell_type": "code",
      "execution_count": null,
      "metadata": {
        "id": "9_pfZSWwzNrD"
      },
      "outputs": [],
      "source": [
        "# Calculo la cantidad de personas fumadoras y no fumadoras y almaceno los resultados en 'conteo_fumadores_no_fumadores'\n",
        "conteo_fumadores_no_fumadores = data[\"SMK_stat_type_cd\"].value_counts()\n",
        "\n",
        "plt.figure(figsize=(8, 5))\n",
        "plt.bar(\n",
        "    conteo_fumadores_no_fumadores.index,  # Se utiliza en el eje \"x\" y contiene las categorías ('si' y 'no') de fumadores y no fumadores\n",
        "    conteo_fumadores_no_fumadores.values,  # Se utiliza en el eje \"y\" y contiene la cantidad de personas en cada categoría\n",
        "    color=[\"salmon\", \"blue\"],\n",
        "    edgecolor=\"black\",\n",
        ")\n",
        "\n",
        "plt.xlabel(\"Fumador\")\n",
        "plt.ylabel(\"Cantidad\")\n",
        "plt.title(\"Cantidad de Fumadores vs. No Fumadores\")\n",
        "plt.show()\n"
      ]
    },
    {
      "cell_type": "markdown",
      "metadata": {
        "id": "UE784jjC7WFP"
      },
      "source": [
        "####**Gráfico de líneas Matplotlib:**\n"
      ]
    },
    {
      "cell_type": "markdown",
      "source": [
        "Para mostrar el promedio del peso en función de la edad de los bebedores. ¿Cómo varía el peso promedio en función de la edad para los bebedores? ¿Existe alguna tendencia observable en esta relación?\n",
        "\n",
        "**Respuesta**: No se ve una tendencia clara con respecto a la edad en los bebedores, en los no bebedores se ve como bajan de peso con el paso de los años. Aún así se ve claramente como tienen mayor peso las personas bebedoras en comparación con las que no"
      ],
      "metadata": {
        "id": "jbyKyzbMMbIN"
      }
    },
    {
      "cell_type": "code",
      "execution_count": null,
      "metadata": {
        "id": "aXhfHHx50Y4W"
      },
      "outputs": [],
      "source": [
        "bebedores = data[data[\"DRK_YN\"] == \"Y\"]\n",
        "no_bebedores = data[data[\"DRK_YN\"] == \"N\"]\n",
        "\n",
        "promedio_peso_por_edad_bebedores = (\n",
        "    bebedores.groupby(\"age\")[\"weight\"].mean().reset_index()\n",
        ")\n",
        "\n",
        "moda_peso_bebedores = bebedores[\"weight\"].mode().values[0]\n",
        "\n",
        "promedio_peso_por_edad_no_bebedores = (\n",
        "    no_bebedores.groupby(\"age\")[\"weight\"].mean().reset_index()\n",
        ")\n",
        "\n",
        "moda_peso_no_bebedores = no_bebedores[\"weight\"].mode().values[0]\n",
        "\n",
        "plt.figure(figsize=(8, 5))\n",
        "plt.plot(\n",
        "    promedio_peso_por_edad_bebedores[\"age\"],\n",
        "    promedio_peso_por_edad_bebedores[\"weight\"],\n",
        "    marker=\"o\",\n",
        "    linestyle=\"-\",\n",
        "    label=\"Bebedores\",\n",
        ")\n",
        "plt.plot(\n",
        "    promedio_peso_por_edad_no_bebedores[\"age\"],\n",
        "    promedio_peso_por_edad_no_bebedores[\"weight\"],\n",
        "    marker=\"o\",\n",
        "    linestyle=\"-\",\n",
        "    label=\"No Bebedores\",\n",
        ")\n",
        "plt.axhline(\n",
        "    y=moda_peso_bebedores,\n",
        "    color=\"gray\",\n",
        "    linestyle=\"--\",\n",
        "    alpha=0.7,\n",
        "    label=\"Moda de Peso (Bebedores)\",\n",
        ")\n",
        "plt.axhline(\n",
        "    y=moda_peso_no_bebedores,\n",
        "    color=\"orange\",\n",
        "    linestyle=\"--\",\n",
        "    alpha=0.7,\n",
        "    label=\"Moda de Peso (No Bebedores)\",\n",
        ")\n",
        "plt.xlabel(\"Edad\")\n",
        "plt.ylabel(\"Promedio de Peso (kg)\")\n",
        "plt.title(\"Promedio de Peso en Función de la Edad para Bebedores y No Bebedores\")\n",
        "plt.legend()\n",
        "plt.show()\n",
        "\n"
      ]
    },
    {
      "cell_type": "markdown",
      "metadata": {
        "id": "ZtJG8AS3EUYR"
      },
      "source": [
        "####**Grafico de barras con Seaborn**\n"
      ]
    },
    {
      "cell_type": "markdown",
      "source": [
        "Si nos preguntamos acerca de los triglicéridos presentes en los fumadores, existe una tendencia al aumento de éstos valores bastante simétrica a medida que nos acercamos a los 40 - 50 años."
      ],
      "metadata": {
        "id": "YBOAa8fhMcx7"
      }
    },
    {
      "cell_type": "code",
      "execution_count": null,
      "metadata": {
        "id": "yiZpUjOqBE_S"
      },
      "outputs": [],
      "source": [
        "fumadores = data[data[\"SMK_stat_type_cd\"] == 3]\n",
        "\n",
        "#promedio de triglicéridos por grupo de edad (de 10 en 10 años)\n",
        "min_edad = fumadores['age'].min()\n",
        "max_edad = fumadores['age'].max()\n",
        "edades = list(range(min_edad, max_edad + 1, 10))\n",
        "\n",
        "promedios_df = fumadores.groupby(pd.cut(fumadores['age'], bins=edades, right=False))['triglyceride'].mean().reset_index()\n",
        "\n",
        "# Crear el gráfico de barras con Seaborn\n",
        "plt.figure(figsize=(10, 6))\n",
        "sns.barplot(data=promedios_df, x='age', y='triglyceride')\n",
        "plt.title('Promedio de Triglicéridos por Grupo de Edad (Fumadores)')\n",
        "plt.xlabel('Edad')\n",
        "plt.ylabel('Promedio Triglicéridos (mg/dL)')\n",
        "plt.show()"
      ]
    },
    {
      "cell_type": "markdown",
      "metadata": {
        "id": "kaM9_cnc7i__"
      },
      "source": [
        "####**Grafico lineal comparativo**\n"
      ]
    },
    {
      "cell_type": "markdown",
      "source": [
        "¿Hay mayor presencia de triglicéridos en aquellos individuos de la muestra que beben? Permite ver claramente un mayor promedio de triglicéridos en bebedores que aquellos que no los son, aún así no hay tendencias claras."
      ],
      "metadata": {
        "id": "gzyPC7ZPNPI_"
      }
    },
    {
      "cell_type": "code",
      "execution_count": null,
      "metadata": {
        "id": "BuXZ45TZ2nnr"
      },
      "outputs": [],
      "source": [
        "promedios_trigliceridos_bebedores = []\n",
        "promedios_trigliceridos_no_bebedores = []\n",
        "\n",
        "for edad in edades:\n",
        "    promedio_bebedores = data[(data['age'] == edad) & (data['DRK_YN'] == 'Y')]['triglyceride'].mean()\n",
        "    promedio_no_bebedores = data[(data['age'] == edad) & (data['DRK_YN'] == 'N')]['triglyceride'].mean()\n",
        "\n",
        "    promedios_trigliceridos_bebedores.append(promedio_bebedores)\n",
        "    promedios_trigliceridos_no_bebedores.append(promedio_no_bebedores)\n",
        "\n",
        "promedios_df = pd.DataFrame({'Edad': edades,\n",
        "                             'Promedio triglicéridos (Bebedores)': promedios_trigliceridos_bebedores,\n",
        "                             'Promedio triglicéridos (No Bebedores)': promedios_trigliceridos_no_bebedores})\n",
        "\n",
        "plt.figure(figsize=(10, 6))\n",
        "sns.lineplot(data=promedios_df, x='Edad', y='Promedio triglicéridos (Bebedores)', label='Bebedores')\n",
        "sns.lineplot(data=promedios_df, x='Edad', y='Promedio triglicéridos (No Bebedores)', label='No Bebedores')\n",
        "plt.title('Promedio de triglicéridos por grupo de edad')\n",
        "plt.xlabel('Edad')"
      ]
    },
    {
      "cell_type": "markdown",
      "metadata": {
        "id": "Wu32lmhIGcjb"
      },
      "source": [
        "####**Evaluando el colesterol en sangre y peso**\n"
      ]
    },
    {
      "cell_type": "markdown",
      "source": [
        "¿Es muy marcada la diferencia de colesterol y de peso entre hombres y mujeres de la muestra?\n",
        "\n",
        "**Respuesta**: La respuesta es claramente que sí, no sorprende tal vez en el caso del peso, pero si en lo respectivo al colesterol. Vemos una mayor presencia de este último en hombres, especialmente entre los 30 - 50 años"
      ],
      "metadata": {
        "id": "IRHxg5NCOW7h"
      }
    },
    {
      "cell_type": "code",
      "execution_count": null,
      "metadata": {
        "id": "6hGXkmZE3HYV"
      },
      "outputs": [],
      "source": [
        "sampled_data = data.sample(n=5000, random_state=42)\n",
        "\n",
        "plt.figure(figsize=(8, 5))\n",
        "plt.scatter(sampled_data['age'], sampled_data['weight'],\n",
        "            c=sampled_data['sex'].map({'Male': 'blue', 'Female': 'pink'}),\n",
        "            s=sampled_data['tot_chole'] * 0.5,  # Reducir el tamaño de los puntos\n",
        "            alpha=0.5)  # Reducir la transparencia de los puntos\n",
        "\n",
        "plt.xlabel('Edad')\n",
        "plt.ylabel('Peso')\n",
        "plt.title('Relación entre edad y peso')\n",
        "plt.colorbar(label='Nivel de colesterol total')\n",
        "\n",
        "# Ajustar la leyenda\n",
        "plt.legend(handles=[\n",
        "    plt.Line2D([0], [0], marker='o', color='w', label='Hombre', markerfacecolor='blue', markersize=8),\n",
        "    plt.Line2D([0], [0], marker='o', color='w', label='Mujer', markerfacecolor='pink', markersize=8)\n",
        "])\n",
        "\n",
        "plt.show()"
      ]
    },
    {
      "cell_type": "markdown",
      "metadata": {
        "id": "W8_rzbp9c2eG"
      },
      "source": [
        "####**Personas con niveles de colesterol alto**\n"
      ]
    },
    {
      "cell_type": "markdown",
      "source": [
        "En función de diferentes combinaciones de hábitos (fumar y beber). En lo que al colesterol respecta, ¿es peor fumar o beber?\n",
        "\n",
        "**Respuesta**: Los no fumadores de la muestra, en cualquiera de sus combinaciones, en ninguna de las oportunidades mostraron tener niveles de colesterol altos"
      ],
      "metadata": {
        "id": "yWKuMzP9RoAX"
      }
    },
    {
      "cell_type": "code",
      "execution_count": null,
      "metadata": {
        "id": "g5j1_dqazEi5"
      },
      "outputs": [],
      "source": [
        "# Un colesterol menor a 200mg/dl es lo deseable para estar sano\n",
        "colesterol_alto = data[data['tot_chole'] > 200]\n",
        "\n",
        "# Contando la cantidad de personas con colesterol alto que fuman y beben\n",
        "fumadores_bebedores_colesterol_alto = colesterol_alto[(colesterol_alto['SMK_stat_type_cd'] == 3) & (colesterol_alto['DRK_YN'] == 'Y')]\n",
        "fumadores_no_bebedores_colesterol_alto = colesterol_alto[(colesterol_alto['SMK_stat_type_cd'] == 3) & (colesterol_alto['DRK_YN'] == 'N')]\n",
        "no_fumadores_bebedores_colesterol_alto = colesterol_alto[(colesterol_alto['SMK_stat_type_cd'] == 1) & (colesterol_alto['DRK_YN'] == 'Y')]\n",
        "no_fumadores_no_bebedores_colesterol_alto = colesterol_alto[(colesterol_alto['SMK_stat_type_cd'] == 1) & (colesterol_alto['DRK_YN'] == 'N')]\n",
        "\n",
        "plt.figure(figsize=(10, 6))\n",
        "# Utilizo len() para devuelver la cantidad de elementos del objeto iterable correspondiente\n",
        "plt.bar('Fumadores y Bebedores', len(fumadores_bebedores_colesterol_alto), color='blue', label='Fumadores y Bebedores')\n",
        "plt.bar('Fumadores y No Bebedores', len(fumadores_no_bebedores_colesterol_alto), color='orange', label='Fumadores y No Bebedores')\n",
        "plt.bar('No Fumadores y Bebedores', len(no_fumadores_bebedores_colesterol_alto), color='green', label='No Fumadores y Bebedores')\n",
        "plt.bar('No Fumadores y No Bebedores', len(no_fumadores_no_bebedores_colesterol_alto), color='red', label='No Fumadores y No Bebedores')\n",
        "\n",
        "plt.xlabel('Combinación de Hábitos')\n",
        "plt.ylabel('Cantidad de Personas')\n",
        "plt.title('Cantidad de Personas con Colesterol Alto por Combinación de Hábitos')\n",
        "plt.legend()\n",
        "plt.xticks(rotation=45) # Roto las etiquetas en el eje x para que sean legibles\n",
        "plt.show()"
      ]
    },
    {
      "cell_type": "markdown",
      "metadata": {
        "id": "9wXDglr2b7k0"
      },
      "source": [
        "####**Boxplot con Seaborn:**\n",
        "\n",
        "\n",
        "\n",
        "\n",
        "\n"
      ]
    },
    {
      "cell_type": "markdown",
      "source": [
        "*   ¿Hay diferencias significativas en los niveles de triglicéridos entre hombres y mujeres en la muestra estudiada?\n",
        "*   ¿Cuál es la tendencia central de los niveles de triglicéridos para cada género?\n",
        "*   ¿Existen valores atípicos (outliers) en la distribución de los niveles de triglicéridos?\n",
        "\n",
        "**Vemos una mayor cantidad de individuos con niveles de triglicéridos más altos en el género masculino. La mediana en los hombres casi llega a la cantidad que representa el tercer cuartil en las mujeres. Aún así vemos una alta presencia de outliers en ambos casos**"
      ],
      "metadata": {
        "id": "a5vPLBNAWKNU"
      }
    },
    {
      "cell_type": "code",
      "execution_count": null,
      "metadata": {
        "id": "amKgB7oKzKSL"
      },
      "outputs": [],
      "source": [
        "plt.figure(figsize=(8, 6))\n",
        "\n",
        "sns.boxplot(x='sex', y='triglyceride', data=data, palette='pastel', showfliers=True, flierprops=dict(marker='o', markersize=5))\n",
        "\n",
        "plt.xlabel('Sexo')\n",
        "plt.ylabel('Nivel de Triglicéridos (mg/dL)')\n",
        "plt.title('Distribución de Triglicéridos por Sexo')\n",
        "plt.show()"
      ]
    },
    {
      "cell_type": "markdown",
      "source": [
        "Para abordar los valores atípicos en los niveles de triglicéridos, reemplazamos los outliers con la mediana de la variable. Esta medida fue elegida por su resistencia a los valores extremos. Tras la corrección, observamos una distribución más coherente en el boxplot"
      ],
      "metadata": {
        "id": "5tDcsL2IlogS"
      }
    },
    {
      "cell_type": "code",
      "source": [
        "# Calcula la mediana de los datos\n",
        "median_triglyceride = data['triglyceride'].median()\n",
        "\n",
        "# Define el límite para identificar los valores atípicos (por ejemplo, 3 veces el rango intercuartil)\n",
        "IQR = data['triglyceride'].quantile(0.75) - data['triglyceride'].quantile(0.25)\n",
        "lower_bound = data['triglyceride'].quantile(0.25) - 1.5 * IQR\n",
        "upper_bound = data['triglyceride'].quantile(0.75) + 1.5 * IQR\n",
        "\n",
        "# Reemplaza los valores atípicos por la mediana\n",
        "data['triglyceride'] = np.where((data['triglyceride'] < lower_bound) | (data['triglyceride'] > upper_bound), median_triglyceride, data['triglyceride'])\n",
        "\n",
        "# Graficar el boxplot después de reemplazar los valores atípicos\n",
        "plt.figure(figsize=(8, 6))\n",
        "sns.boxplot(x='sex', y='triglyceride', data=data, palette='pastel', showfliers=True, flierprops=dict(marker='o', markersize=5))\n",
        "plt.xlabel('Sexo')\n",
        "plt.ylabel('Nivel de Triglicéridos (mg/dL)')\n",
        "plt.title('Distribución de Triglicéridos por Sexo después de reemplazar outliers')\n",
        "plt.show()\n"
      ],
      "metadata": {
        "id": "NOaSr3O8gbeB"
      },
      "execution_count": null,
      "outputs": []
    },
    {
      "cell_type": "markdown",
      "metadata": {
        "id": "Bo-oX652gVlE"
      },
      "source": [
        "####**Mapa de Correlación:**\n",
        "\n"
      ]
    },
    {
      "cell_type": "markdown",
      "source": [
        "¿Qué variables están más fuertemente correlacionadas entre sí?\n",
        "\n",
        "Las celdas del mapa de calor con valores cercanos a 1 indican una fuerte correlación positiva, mientras que valores cercanos a -1 indican una fuerte correlación negativa."
      ],
      "metadata": {
        "id": "cA31bJx8WTcG"
      }
    },
    {
      "cell_type": "code",
      "execution_count": null,
      "metadata": {
        "id": "CEDm4zilzO-G"
      },
      "outputs": [],
      "source": [
        "#Calcula la matriz de correlación entre las variables numéricas del conjunto de datos\n",
        "correlation_matrix = data.corr()\n",
        "correlation_matrix = data.corr()\n",
        "plt.figure(figsize=(7, 4))\n",
        "\n",
        "sns.heatmap(correlation_matrix, annot=True, cmap='coolwarm', fmt='.2f', #Formatea los valores numéricos con dos decimales en el mapa de calor.\n",
        "            linewidths=0.5)\n",
        "\n",
        "plt.title('Mapa de Calor de Correlación')\n",
        "plt.show()"
      ]
    },
    {
      "cell_type": "markdown",
      "metadata": {
        "id": "Mv9aC6Rrhnyb"
      },
      "source": [
        "####**Boxplot para el hábito de fumar:**\n",
        "\n"
      ]
    },
    {
      "cell_type": "markdown",
      "source": [
        "¿Cómo varía la distribución del nivel de colesterol total entre las personas que fuman y las que no fuman?\n",
        "\n",
        "**Cómo ya vimos en uno de los gráficos anteriores, las cuestiones asociadas al colesterol afectan más a los bebedores. Aquí solo podemos ver un nivel superior, pero casi imperceptible, de colesterol en aquellos que fuman**"
      ],
      "metadata": {
        "id": "3S2M70mTWz7A"
      }
    },
    {
      "cell_type": "code",
      "execution_count": null,
      "metadata": {
        "id": "B5cRWUxZzWdD"
      },
      "outputs": [],
      "source": [
        "plt.figure(figsize=(8, 6))\n",
        "sns.boxplot(x='SMK_stat_type_cd', y='tot_chole', data=data)\n",
        "plt.xlabel('Fumador')\n",
        "plt.ylabel('Nivel de Colesterol Total (mg/dL)')\n",
        "plt.title('Distribución de Colesterol Total por Hábito de Fumar')\n",
        "plt.show()"
      ]
    },
    {
      "cell_type": "code",
      "source": [
        "# Calcula la mediana de los datos\n",
        "median_cholesterol = data['tot_chole'].median()\n",
        "\n",
        "# Define el límite para identificar los valores atípicos (por ejemplo, 3 veces el rango intercuartil)\n",
        "IQR = data['tot_chole'].quantile(0.75) - data['tot_chole'].quantile(0.25)\n",
        "lower_bound = data['tot_chole'].quantile(0.25) - 1.5 * IQR\n",
        "upper_bound = data['tot_chole'].quantile(0.75) + 1.5 * IQR\n",
        "\n",
        "# Reemplaza los valores atípicos por la mediana\n",
        "data['tot_chole'] = np.where((data['tot_chole'] < lower_bound) | (data['tot_chole'] > upper_bound), median_cholesterol, data['tot_chole'])\n",
        "\n",
        "# Graficar el boxplot con los datos corregidos\n",
        "plt.figure(figsize=(8, 6))\n",
        "sns.boxplot(x='SMK_stat_type_cd', y='tot_chole', data=data)\n",
        "plt.xlabel('Fumador')\n",
        "plt.ylabel('Nivel de Colesterol Total (mg/dL)')\n",
        "plt.title('Distribución de Colesterol Total por Hábito de Fumar (con valores atípicos corregidos)')\n",
        "plt.show()"
      ],
      "metadata": {
        "id": "BAEaXbJEm-gU"
      },
      "execution_count": null,
      "outputs": []
    },
    {
      "cell_type": "markdown",
      "metadata": {
        "id": "hpadOl_ahid6"
      },
      "source": [
        "# Modelo de Machine Learning\n",
        "\n",
        "---\n"
      ]
    },
    {
      "cell_type": "markdown",
      "source": [
        "Al revisar los datos trabajados, encontré que el modelo de Machine Learning tiene que solucionar problemas de **clasificación**, en este caso binaria, y no así uno de **regresión**. Por ese motivo, elegí realizar un **árbol de decisiones** con el fin de clasificar los registros en dos grupos:\n",
        "\n",
        "*   No Bebedor\n",
        "*   Bebedor"
      ],
      "metadata": {
        "id": "6MaZ3EXRNfhL"
      }
    },
    {
      "cell_type": "markdown",
      "source": [
        "#### Importamos las librerías para el modelo"
      ],
      "metadata": {
        "id": "Ri66XuP5Nvnw"
      }
    },
    {
      "cell_type": "code",
      "execution_count": null,
      "metadata": {
        "id": "t2pxzbB3ycS3"
      },
      "outputs": [],
      "source": [
        "from io import StringIO # Manipulación de cadenas de texto en memoria\n",
        "from IPython.display import Image  # Mostrar imágenes en entornos de Jupyter\n",
        "import matplotlib.image as mpimg # Visualización de imágenes\n",
        "import pydotplus # Generación de gráficos DOT y visualización de árboles de decisión\n",
        "from sklearn import metrics  # Métricas para evaluar el rendimiento del modelo\n",
        "from sklearn import preprocessing # Preprocesamiento de datos, como escalado y codificación\n",
        "from sklearn import tree  # Módulo para trabajar con árboles de decisión en scikit-learn\n",
        "from sklearn.decomposition import PCA\n",
        "from sklearn.feature_selection import f_classif, SelectKBest\n",
        "from sklearn.feature_selection import SelectFromModel\n",
        "from sklearn.tree import DecisionTreeClassifier # Clasificador basado en árboles de decisión\n",
        "from sklearn.tree import export_graphviz  # Exportar árboles de decisión en formato DOT\n",
        "from sklearn.tree import plot_tree\n",
        "from sklearn.tree import export_text\n",
        "from sklearn.metrics import accuracy_score\n",
        "from sklearn.metrics import classification_report\n",
        "from sklearn.metrics import confusion_matrix # Calcula una matriz de confusión para evaluar el rendimiento de modelos de clasificación.\n",
        "from sklearn.metrics import roc_curve, roc_auc_score\n",
        "from sklearn.metrics import silhouette_score\n",
        "from sklearn.model_selection import train_test_split # División de datos en conjuntos de entrenamiento y prueba"
      ]
    },
    {
      "cell_type": "markdown",
      "metadata": {
        "id": "CVEWo-cNgmYD"
      },
      "source": [
        "## Feature Engineering\n",
        "\n",
        "\n",
        "\n"
      ]
    },
    {
      "cell_type": "markdown",
      "source": [
        "*   Feature Creation\n",
        "*   Transformaciones\n",
        "*   Feature Extraction\n",
        "*   Exploratory Data Analysis\n",
        "*   Benchmark"
      ],
      "metadata": {
        "id": "aSJqkXoD0KN-"
      }
    },
    {
      "cell_type": "markdown",
      "source": [
        "### Feature Creation - Transformation - Extraction"
      ],
      "metadata": {
        "id": "GBhQdzgTLaw0"
      }
    },
    {
      "cell_type": "markdown",
      "source": [
        "#### Encoding\n"
      ],
      "metadata": {
        "id": "7Rr-AxYSN2V0"
      }
    },
    {
      "cell_type": "markdown",
      "source": [
        "Los algoritmos de ML generalmente requieren que todas las variables sean numéricas para poder entenderlas. Por lo tanto, el **encoding** es necesario para convertir estas variables categóricas en valores numéricos antes de ser utilizadas."
      ],
      "metadata": {
        "id": "6A4QNB_D1p8y"
      }
    },
    {
      "cell_type": "markdown",
      "source": [
        "Transformación de variables categóricas a numéricas mediante **get_dummies**"
      ],
      "metadata": {
        "id": "yX7KFu8fQ7Dv"
      }
    },
    {
      "cell_type": "code",
      "execution_count": null,
      "metadata": {
        "id": "lZ6OFGEZ_yW4"
      },
      "outputs": [],
      "source": [
        "# Aplicando one-hot encoding a las variables categóricas\n",
        "data_dummies = pd.get_dummies(data, columns=['sex', 'SMK_stat_type_cd', 'hear_left', 'hear_right'])\n",
        "\n",
        "# Eliminando las columnas originales que se codificaron\n",
        "data = data.drop(['sex', 'SMK_stat_type_cd', 'hear_left', 'hear_right'], axis=1)\n",
        "\n",
        "# Concatenar las columnas codificadas\n",
        "data = pd.concat([data, data_dummies], axis=1)\n",
        "\n",
        "# Convertir la variable objetivo en dummies\n",
        "target_dummies = pd.get_dummies(data['DRK_YN'], prefix='DRK_YN')\n",
        "\n",
        "# Concatenar las columnas codificadas al conjunto de datos\n",
        "data = pd.concat([data, target_dummies], axis=1)\n",
        "\n",
        "# Unir las columnas dummy en una sola columna\n",
        "data['DRK_YN'] = target_dummies['DRK_YN_Y']\n",
        "\n",
        "# Eliminar las columnas dummy originales\n",
        "data = data.drop(['DRK_YN_Y', 'DRK_YN_N'], axis=1)\n",
        "\n",
        "# Separar la variable objetivo ('bebedor')\n",
        "target = data['DRK_YN']\n",
        "\n",
        "# Eliminar la variable objetivo del conjunto de características\n",
        "x = data.drop('DRK_YN', axis=1)\n"
      ]
    },
    {
      "cell_type": "markdown",
      "source": [
        "#### Feature Selection\n"
      ],
      "metadata": {
        "id": "MRBrAUiZRIBj"
      }
    },
    {
      "cell_type": "markdown",
      "source": [
        "Métodos comunes de selección de características:\n",
        "\n",
        "*   Correlación (manual): eliminar características que yo crea que no tienen relación.\n",
        "*   Transformación de variables categóricas a numéricas\n",
        "*   Selección de características univariables\n",
        "*   Recursive Feature Elimination (RFE)\n",
        "*   F ANOVA"
      ],
      "metadata": {
        "id": "5fFHkC6_1i-Q"
      }
    },
    {
      "cell_type": "code",
      "execution_count": null,
      "metadata": {
        "id": "-sS-S1M6sL8W"
      },
      "outputs": [],
      "source": [
        "# Seleccionar una de las columnas de la variable objetivo\n",
        "target_binary = target.iloc[:, 0]  # Esto selecciona la primera columna\n",
        "\n",
        "# Seleccionar características\n",
        "selector_anova = SelectKBest(score_func=f_classif, k='all')\n",
        "X_anova = selector_anova.fit_transform(x, target_binary)\n",
        "\n",
        "# Obtener las puntuaciones y los nombres de las características seleccionadas\n",
        "scores = selector_anova.scores_\n",
        "feature_names = x.columns\n",
        "\n",
        "# Crear un DataFrame con las puntuaciones y los nombres de las características\n",
        "features_anova = pd.DataFrame({'Feature': feature_names, 'Score': scores})\n",
        "\n",
        "# Ordenar las características por puntuación en orden descendente\n",
        "features_anova = features_anova.sort_values(by='Score', ascending=False)\n",
        "\n",
        "# Mostrar las características seleccionadas\n",
        "print(features_anova)"
      ]
    },
    {
      "cell_type": "markdown",
      "metadata": {
        "id": "YHMFGj4p7Qzj"
      },
      "source": [
        "Los resultados del F ANOVA proporcionan información sobre la importancia relativa de cada característica en relación con la variable objetivo 'bebedor'. El puntaje F indica cuánto varía la media de la variable objetivo entre diferentes niveles de la característica, y un puntaje más alto sugiere una mayor importancia.\n",
        "\n",
        "\n",
        "* sexo_Female y sexo_Male: El puntaje F es alto, lo que sugiere que el género puede ser significativo en la predicción de si alguien es bebedor o no.\n",
        "altura:\n",
        "\n",
        "* La altura es una característica importante según el puntaje F. Podría haber diferencias significativas en la variable objetivo entre diferentes niveles de altura.\n",
        "\n",
        "* fumador_nunca y fumador_si: Las categorías relacionadas con el hábito de fumar también son significativas.\n",
        "\n",
        "* hemoglobina(mg/dL): La hemoglobina es una característica importante. Puede haber diferencias significativas en la variable objetivo según los niveles de hemoglobina.\n",
        "peso:\n",
        "\n",
        "* El peso también es una característica relevante.\n",
        "\n",
        "* fumador_dejó: La categoría relacionada con haber dejado de fumar también es significativa.\n",
        "\n",
        "* cintura_cm: La circunferencia de la cintura es otra característica importante.\n",
        "\n",
        "* trigliceridos(mg/dL): Los niveles de triglicéridos también tienen cierta importancia.\n",
        "\n",
        "* colesterol_HDL(mg/dL): Aunque tiene un puntaje F más bajo, todavía muestra cierta relevancia.\n",
        "\n",
        "* colesterol_total(mg/dL): Similar a HDL, tiene cierta relevancia."
      ]
    },
    {
      "cell_type": "markdown",
      "source": [
        "Seleccionamos las características en base al resultado del ANOVA"
      ],
      "metadata": {
        "id": "X_umg-ZtfhK0"
      }
    },
    {
      "cell_type": "code",
      "source": [
        "selected_features = features_anova['Feature'][:8]\n",
        "\n",
        "# Seleccionar las características del conjunto de datos\n",
        "X_selected = x[selected_features]\n",
        "\n",
        "# Dividir los datos en conjunto de entrenamiento y conjunto de prueba\n",
        "X_train, X_test, y_train, y_test = train_test_split(X_selected, target_binary, test_size=0.3, random_state=42)"
      ],
      "metadata": {
        "id": "RVhhdIokfcbe"
      },
      "execution_count": null,
      "outputs": []
    },
    {
      "cell_type": "markdown",
      "source": [
        "PCA"
      ],
      "metadata": {
        "id": "iN9j0-q7wAFX"
      }
    },
    {
      "cell_type": "code",
      "source": [
        "# Selecciono las características en base al resultado del ANOVA\n",
        "selected_features = features_anova['Feature'][:8]\n",
        "\n",
        "# Seleccion0 las características del conjunto de datos\n",
        "X_selected = x[selected_features]\n",
        "\n",
        "# Aplico PCA para reducción de dimensionalidad\n",
        "pca = PCA(n_components=5)  # Especifica el número de componentes principales deseados\n",
        "X_pca = pca.fit_transform(X_selected)\n",
        "\n",
        "# Dividir los datos en conjunto de entrenamiento y conjunto de prueba después del PCA\n",
        "X_train, X_test, y_train, y_test = train_test_split(X_pca, target_binary, test_size=0.3, random_state=42)\n"
      ],
      "metadata": {
        "id": "1hulG_lisnse"
      },
      "execution_count": null,
      "outputs": []
    },
    {
      "cell_type": "markdown",
      "source": [
        "## Entrenamiento\n"
      ],
      "metadata": {
        "id": "sJOlMr8SRWqf"
      }
    },
    {
      "cell_type": "markdown",
      "source": [
        "#### Árbol de Clasificación"
      ],
      "metadata": {
        "id": "Lw-ZGNj_0VUz"
      }
    },
    {
      "cell_type": "markdown",
      "metadata": {
        "id": "d4mF_VMnmwDc"
      },
      "source": [
        "Debajo creamos los sets de entrenamiento y los sometemos a un Clasificador de Arbol. Dividimos los datos de características (x) y etiquetas (y) en dos conjuntos:\n",
        "1.   Entrenamiento (x_entre y y_entre)\n",
        "2.   Pruebas (x_test y y_test)"
      ]
    },
    {
      "cell_type": "code",
      "execution_count": null,
      "metadata": {
        "id": "50YM2_kK9AhY"
      },
      "outputs": [],
      "source": [
        "tree_classifier = DecisionTreeClassifier(random_state=42)  # Iniciando árbol de decisiones\n",
        "\n",
        "# Entrenar el modelo\n",
        "tree_classifier.fit(X_train, y_train) # método fit() para entrenar el clasificador con los datos\n",
        "\n",
        "# Predecir en el conjunto de prueba\n",
        "y_pred = tree_classifier.predict(X_test) # método predict() para hacer predicciones sobre el conjunto de prueba X_test utilizando el modelo entrenado\n",
        "\n",
        "# Evaluar el rendimiento del modelo\n",
        "accuracy = accuracy_score(y_test, y_pred)\n",
        "conf_matrix = confusion_matrix(y_test, y_pred)\n",
        "class_report = classification_report(y_test, y_pred)\n"
      ]
    },
    {
      "cell_type": "markdown",
      "source": [
        "En muchos algoritmos de aprendizaje automático, hay componentes que implican el uso de números aleatorios. Esto puede llevar a que el modelo dé resultados ligeramente diferentes cada vez que se entrena, incluso si se utiliza el mismo conjunto de datos. Para asegurar la reproducibilidad del proceso y obtener los mismos resultados cada vez que se entrena el modelo, se utiliza la semilla aleatoria (random_state)."
      ],
      "metadata": {
        "id": "ObtSsac8d-za"
      }
    },
    {
      "cell_type": "code",
      "execution_count": null,
      "metadata": {
        "id": "E8pnDDi012IR"
      },
      "outputs": [],
      "source": [
        "print('Cantidad de datos para entreno:', X_train.shape, y_train.shape)\n",
        "print('Cantidad de datos para testeo:', X_test.shape, y_test.shape)"
      ]
    },
    {
      "cell_type": "code",
      "execution_count": null,
      "metadata": {
        "id": "lAWZ0AlD17Gk"
      },
      "outputs": [],
      "source": [
        "# Inicializar el clasificador de árbol de decisiones con profundidad máxima\n",
        "tree_classifier = DecisionTreeClassifier(random_state=42, max_depth=3)\n",
        "\n",
        "# Entrenar el modelo\n",
        "tree_classifier.fit(X_train, y_train)\n",
        "\n",
        "# Predecir en el conjunto de prueba\n",
        "y_pred = tree_classifier.predict(X_test)\n",
        "\n",
        "# Visualizar el árbol de decisión\n",
        "plt.figure(figsize=(14, 10))\n",
        "plot_tree(tree_classifier, filled=True, feature_names=X_selected.columns, class_names=['No Bebedor', 'Bebedor'])\n",
        "plt.show()"
      ]
    },
    {
      "cell_type": "markdown",
      "source": [
        "#### Matriz de confusión"
      ],
      "metadata": {
        "id": "bDVdQ-3p0jNN"
      }
    },
    {
      "cell_type": "code",
      "source": [
        "plt.figure(figsize=(8, 6))\n",
        "sns.heatmap(conf_matrix, annot=True, fmt='d', cmap='Blues', xticklabels=['No Bebedor', 'Bebedor'], yticklabels=['No Bebedor', 'Bebedor'])\n",
        "plt.xlabel('Predicciones')\n",
        "plt.ylabel('Valores Reales')\n",
        "plt.title('Matriz de Confusión')\n",
        "plt.show()"
      ],
      "metadata": {
        "id": "XvvKI0dPSwKC"
      },
      "execution_count": null,
      "outputs": []
    },
    {
      "cell_type": "code",
      "source": [
        "# Imprimir los resultados\n",
        "print(f'Accuracy: {accuracy}')\n",
        "print('\\nConfusion Matrix:\\n', conf_matrix)\n",
        "print('\\nClassification Report:\\n', class_report)"
      ],
      "metadata": {
        "id": "T3IURhZAszBC"
      },
      "execution_count": null,
      "outputs": []
    },
    {
      "cell_type": "markdown",
      "source": [
        "#### Curva AUC-ROC"
      ],
      "metadata": {
        "id": "HqWZo2KP0uCq"
      }
    },
    {
      "cell_type": "code",
      "source": [
        "# Calcular la probabilidad de pertenencia a la clase positiva\n",
        "y_prob = tree_classifier.predict_proba(X_test)[:, 1]\n",
        "\n",
        "# Calcular la curva ROC\n",
        "fpr, tpr, thresholds = roc_curve(y_test, y_prob)\n",
        "\n",
        "# Calcular el área bajo la curva (AUC)\n",
        "auc = roc_auc_score(y_test, y_prob)\n",
        "# Graficar la curva ROC\n",
        "plt.figure()\n",
        "plt.plot(fpr, tpr, color='darkorange', lw=2, label='ROC curve (area = %0.2f)' % auc)\n",
        "plt.plot([0, 1], [0, 1], color='navy', lw=2, linestyle='--')\n",
        "plt.xlabel('False Positive Rate')\n",
        "plt.ylabel('True Positive Rate')\n",
        "plt.title('Receiver Operating Characteristic (ROC) Curve')\n",
        "plt.legend(loc=\"lower right\")\n",
        "plt.show()"
      ],
      "metadata": {
        "id": "RQxDXHLzwPVk"
      },
      "execution_count": null,
      "outputs": []
    }
  ],
  "metadata": {
    "colab": {
      "collapsed_sections": [
        "2NjZfhT9x9tF",
        "ePqdF5Z03hy4",
        "LQ-06LymNtPl",
        "C3iZr8ELQOp7",
        "5vAlKnIR5GA-",
        "Dewxv7ny3s1Z"
      ],
      "provenance": [],
      "toc_visible": true,
      "authorship_tag": "ABX9TyPuUxATUFApY+5tgfpyc6dU",
      "include_colab_link": true
    },
    "kernelspec": {
      "display_name": "Python 3",
      "name": "python3"
    },
    "language_info": {
      "name": "python"
    }
  },
  "nbformat": 4,
  "nbformat_minor": 0
}